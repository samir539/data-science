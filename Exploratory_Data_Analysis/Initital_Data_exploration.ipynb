{
 "cells": [
  {
   "cell_type": "markdown",
   "metadata": {
    "id": "9jw9cDN9sBLw"
   },
   "source": [
    "## Outline\n",
    "\n",
    "- [Section 1](#section-1): Data Loading\n",
    "- [Section 2](#section-2): Data Cleaning\n",
    "- [Section 3](#section-3): More Data Cleaning\n",
    "- [Section 4](#section-4): Descriptive Statistics\n",
    "- [Section 5](#section-5): Visualization\n"
   ]
  },
  {
   "cell_type": "markdown",
   "metadata": {
    "id": "0A9XJRkh3avA"
   },
   "source": [
    "# Data exploration\n",
    "In this notebook, we cover standard processes that are useful for gaining an initial understanding of unfamiliar datasets. The dataset  in question contains climbing data of Mount Rainier, a  stratovolcano located in Washington, USA, with a height of 4,392 meters.\n",
    "\n",
    "To begin our analysis, we will import essential packages such as numpy, pandas, and matplotlib. These packages will enable us to perform data manipulation, analysis, and visualization efficiently."
   ]
  },
  {
   "cell_type": "code",
   "execution_count": 1,
   "metadata": {
    "id": "GM-XTBpc3Udb"
   },
   "outputs": [],
   "source": [
    "import numpy\n",
    "import pandas as pd\n",
    "import matplotlib.pyplot as plt"
   ]
  },
  {
   "cell_type": "markdown",
   "metadata": {
    "id": "Uhykjyll2Z_X"
   },
   "source": [
    "<a name=\"section-1\"></a>\n",
    "## Section 1: Data Loading"
   ]
  },
  {
   "cell_type": "markdown",
   "metadata": {
    "id": "ruc-V3Fe5kkg"
   },
   "source": [
    "Now we load the data set into a pandas data frame, which is standard the representation of a matrix with row and column names in python.\n"
   ]
  },
  {
   "cell_type": "code",
   "execution_count": 2,
   "metadata": {
    "id": "hf54iWpN4XwT"
   },
   "outputs": [],
   "source": [
    "# load data as pandas data frames\n",
    "climbing = pd.read_csv('climbing_statistics.csv', parse_dates=['Date'])"
   ]
  },
  {
   "cell_type": "markdown",
   "metadata": {
    "id": "8UIiD9qO7uIC"
   },
   "source": [
    "It is important to inform the [**read_csv**](https://pandas.pydata.org/pandas-docs/version/0.20.1/generated/pandas.read_csv.html) function about the columns corresponding to dates through `parse_dates` argument, to avoid loading the date as a string instead of datetime object. This is necessary to enable sorting rows by date columns and other operations related to date and time.\n",
    "\n",
    "The first step should always be to see the first few rows of your data set. This can is  done with `.head()` when the object preceding it is a pandas data frame. \n",
    "\n",
    "In the parentheses of `.head()`, you can specify how many rows you would like to see (default is 5), and the function `.tail()` lets you see the last few rows.\n",
    "\n",
    "the first 10 rows are"
   ]
  },
  {
   "cell_type": "code",
   "execution_count": 3,
   "metadata": {
    "colab": {
     "base_uri": "https://localhost:8080/",
     "height": 363
    },
    "id": "d7grMx4f4Xtn",
    "outputId": "8575ffb9-1d65-4e97-806c-e89ecde0d19b"
   },
   "outputs": [
    {
     "data": {
      "text/html": [
       "<div>\n",
       "<style scoped>\n",
       "    .dataframe tbody tr th:only-of-type {\n",
       "        vertical-align: middle;\n",
       "    }\n",
       "\n",
       "    .dataframe tbody tr th {\n",
       "        vertical-align: top;\n",
       "    }\n",
       "\n",
       "    .dataframe thead th {\n",
       "        text-align: right;\n",
       "    }\n",
       "</style>\n",
       "<table border=\"1\" class=\"dataframe\">\n",
       "  <thead>\n",
       "    <tr style=\"text-align: right;\">\n",
       "      <th></th>\n",
       "      <th>Date</th>\n",
       "      <th>Route</th>\n",
       "      <th>Attempted</th>\n",
       "      <th>Succeeded</th>\n",
       "      <th>Success Percentage</th>\n",
       "    </tr>\n",
       "  </thead>\n",
       "  <tbody>\n",
       "    <tr>\n",
       "      <th>0</th>\n",
       "      <td>2015-11-27</td>\n",
       "      <td>Disappointment Cleaver</td>\n",
       "      <td>2</td>\n",
       "      <td>0</td>\n",
       "      <td>0.0</td>\n",
       "    </tr>\n",
       "    <tr>\n",
       "      <th>1</th>\n",
       "      <td>2015-11-21</td>\n",
       "      <td>Disappointment Cleaver</td>\n",
       "      <td>3</td>\n",
       "      <td>0</td>\n",
       "      <td>0.0</td>\n",
       "    </tr>\n",
       "    <tr>\n",
       "      <th>2</th>\n",
       "      <td>2015-10-15</td>\n",
       "      <td>Disappointment Cleaver</td>\n",
       "      <td>2</td>\n",
       "      <td>0</td>\n",
       "      <td>0.0</td>\n",
       "    </tr>\n",
       "    <tr>\n",
       "      <th>3</th>\n",
       "      <td>2015-10-13</td>\n",
       "      <td>Little Tahoma</td>\n",
       "      <td>8</td>\n",
       "      <td>0</td>\n",
       "      <td>0.0</td>\n",
       "    </tr>\n",
       "    <tr>\n",
       "      <th>4</th>\n",
       "      <td>2015-10-09</td>\n",
       "      <td>Disappointment Cleaver</td>\n",
       "      <td>2</td>\n",
       "      <td>0</td>\n",
       "      <td>0.0</td>\n",
       "    </tr>\n",
       "    <tr>\n",
       "      <th>5</th>\n",
       "      <td>2015-10-03</td>\n",
       "      <td>Disappointment Cleaver</td>\n",
       "      <td>10</td>\n",
       "      <td>0</td>\n",
       "      <td>0.0</td>\n",
       "    </tr>\n",
       "    <tr>\n",
       "      <th>6</th>\n",
       "      <td>2015-10-03</td>\n",
       "      <td>Disappointment Cleaver</td>\n",
       "      <td>2</td>\n",
       "      <td>0</td>\n",
       "      <td>0.0</td>\n",
       "    </tr>\n",
       "    <tr>\n",
       "      <th>7</th>\n",
       "      <td>2015-10-02</td>\n",
       "      <td>Kautz Glacier</td>\n",
       "      <td>2</td>\n",
       "      <td>0</td>\n",
       "      <td>0.0</td>\n",
       "    </tr>\n",
       "    <tr>\n",
       "      <th>8</th>\n",
       "      <td>2015-10-02</td>\n",
       "      <td>Disappointment Cleaver</td>\n",
       "      <td>2</td>\n",
       "      <td>0</td>\n",
       "      <td>0.0</td>\n",
       "    </tr>\n",
       "    <tr>\n",
       "      <th>9</th>\n",
       "      <td>2015-09-30</td>\n",
       "      <td>Disappointment Cleaver</td>\n",
       "      <td>2</td>\n",
       "      <td>0</td>\n",
       "      <td>0.0</td>\n",
       "    </tr>\n",
       "  </tbody>\n",
       "</table>\n",
       "</div>"
      ],
      "text/plain": [
       "        Date                   Route  Attempted  Succeeded  Success Percentage\n",
       "0 2015-11-27  Disappointment Cleaver          2          0                 0.0\n",
       "1 2015-11-21  Disappointment Cleaver          3          0                 0.0\n",
       "2 2015-10-15  Disappointment Cleaver          2          0                 0.0\n",
       "3 2015-10-13           Little Tahoma          8          0                 0.0\n",
       "4 2015-10-09  Disappointment Cleaver          2          0                 0.0\n",
       "5 2015-10-03  Disappointment Cleaver         10          0                 0.0\n",
       "6 2015-10-03  Disappointment Cleaver          2          0                 0.0\n",
       "7 2015-10-02           Kautz Glacier          2          0                 0.0\n",
       "8 2015-10-02  Disappointment Cleaver          2          0                 0.0\n",
       "9 2015-09-30  Disappointment Cleaver          2          0                 0.0"
      ]
     },
     "execution_count": 3,
     "metadata": {},
     "output_type": "execute_result"
    }
   ],
   "source": [
    "climbing.head(10)"
   ]
  },
  {
   "cell_type": "markdown",
   "metadata": {
    "id": "NRBWoXOK2SCT"
   },
   "source": [
    "<a name=\"section-2\"></a>\n",
    "\n",
    "## Data Cleaning"
   ]
  },
  {
   "cell_type": "markdown",
   "metadata": {
    "id": "l0KG2w6R8nLd"
   },
   "source": [
    "We note that in rows 5 and 6 we have exactly the same route being taken, this could be condensed into a single data instance in our dataframe. In the following we look at ways this can be done."
   ]
  },
  {
   "cell_type": "markdown",
   "metadata": {
    "id": "KAllV8zz2FY3"
   },
   "source": [
    "### Method 1: Using higher-level Pandas operations"
   ]
  },
  {
   "cell_type": "code",
   "execution_count": 4,
   "metadata": {
    "id": "Izn5hBx0Q_vH"
   },
   "outputs": [],
   "source": [
    "# aggregating the rows when Date and Route are identical\n",
    "climbing_clean_0 = climbing.groupby(['Date', 'Route']).sum().sort_values(['Date', 'Route'], ascending=False).reset_index()\n",
    "# recalculate the success percentage\n",
    "climbing_clean_0['Success Percentage'] = climbing_clean_0['Succeeded'] / climbing_clean_0['Attempted']"
   ]
  },
  {
   "cell_type": "markdown",
   "metadata": {
    "id": "51ziOyy7xKvd"
   },
   "source": [
    "Now check the DataFrame after aggregating the rows by Date and Route"
   ]
  },
  {
   "cell_type": "code",
   "execution_count": 5,
   "metadata": {
    "colab": {
     "base_uri": "https://localhost:8080/",
     "height": 363
    },
    "id": "EHabFVgkxIEn",
    "outputId": "9916347b-2e64-4799-91bf-91cf5051548a"
   },
   "outputs": [
    {
     "data": {
      "text/html": [
       "<div>\n",
       "<style scoped>\n",
       "    .dataframe tbody tr th:only-of-type {\n",
       "        vertical-align: middle;\n",
       "    }\n",
       "\n",
       "    .dataframe tbody tr th {\n",
       "        vertical-align: top;\n",
       "    }\n",
       "\n",
       "    .dataframe thead th {\n",
       "        text-align: right;\n",
       "    }\n",
       "</style>\n",
       "<table border=\"1\" class=\"dataframe\">\n",
       "  <thead>\n",
       "    <tr style=\"text-align: right;\">\n",
       "      <th></th>\n",
       "      <th>Date</th>\n",
       "      <th>Route</th>\n",
       "      <th>Attempted</th>\n",
       "      <th>Succeeded</th>\n",
       "      <th>Success Percentage</th>\n",
       "    </tr>\n",
       "  </thead>\n",
       "  <tbody>\n",
       "    <tr>\n",
       "      <th>0</th>\n",
       "      <td>2015-11-27</td>\n",
       "      <td>Disappointment Cleaver</td>\n",
       "      <td>2</td>\n",
       "      <td>0</td>\n",
       "      <td>0.000000</td>\n",
       "    </tr>\n",
       "    <tr>\n",
       "      <th>1</th>\n",
       "      <td>2015-11-21</td>\n",
       "      <td>Disappointment Cleaver</td>\n",
       "      <td>3</td>\n",
       "      <td>0</td>\n",
       "      <td>0.000000</td>\n",
       "    </tr>\n",
       "    <tr>\n",
       "      <th>2</th>\n",
       "      <td>2015-10-15</td>\n",
       "      <td>Disappointment Cleaver</td>\n",
       "      <td>2</td>\n",
       "      <td>0</td>\n",
       "      <td>0.000000</td>\n",
       "    </tr>\n",
       "    <tr>\n",
       "      <th>3</th>\n",
       "      <td>2015-10-13</td>\n",
       "      <td>Little Tahoma</td>\n",
       "      <td>8</td>\n",
       "      <td>0</td>\n",
       "      <td>0.000000</td>\n",
       "    </tr>\n",
       "    <tr>\n",
       "      <th>4</th>\n",
       "      <td>2015-10-09</td>\n",
       "      <td>Disappointment Cleaver</td>\n",
       "      <td>2</td>\n",
       "      <td>0</td>\n",
       "      <td>0.000000</td>\n",
       "    </tr>\n",
       "    <tr>\n",
       "      <th>5</th>\n",
       "      <td>2015-10-03</td>\n",
       "      <td>Disappointment Cleaver</td>\n",
       "      <td>12</td>\n",
       "      <td>0</td>\n",
       "      <td>0.000000</td>\n",
       "    </tr>\n",
       "    <tr>\n",
       "      <th>6</th>\n",
       "      <td>2015-10-02</td>\n",
       "      <td>Kautz Glacier</td>\n",
       "      <td>2</td>\n",
       "      <td>0</td>\n",
       "      <td>0.000000</td>\n",
       "    </tr>\n",
       "    <tr>\n",
       "      <th>7</th>\n",
       "      <td>2015-10-02</td>\n",
       "      <td>Disappointment Cleaver</td>\n",
       "      <td>2</td>\n",
       "      <td>0</td>\n",
       "      <td>0.000000</td>\n",
       "    </tr>\n",
       "    <tr>\n",
       "      <th>8</th>\n",
       "      <td>2015-09-30</td>\n",
       "      <td>Disappointment Cleaver</td>\n",
       "      <td>2</td>\n",
       "      <td>0</td>\n",
       "      <td>0.000000</td>\n",
       "    </tr>\n",
       "    <tr>\n",
       "      <th>9</th>\n",
       "      <td>2015-09-28</td>\n",
       "      <td>Disappointment Cleaver</td>\n",
       "      <td>12</td>\n",
       "      <td>4</td>\n",
       "      <td>0.333333</td>\n",
       "    </tr>\n",
       "  </tbody>\n",
       "</table>\n",
       "</div>"
      ],
      "text/plain": [
       "        Date                   Route  Attempted  Succeeded  Success Percentage\n",
       "0 2015-11-27  Disappointment Cleaver          2          0            0.000000\n",
       "1 2015-11-21  Disappointment Cleaver          3          0            0.000000\n",
       "2 2015-10-15  Disappointment Cleaver          2          0            0.000000\n",
       "3 2015-10-13           Little Tahoma          8          0            0.000000\n",
       "4 2015-10-09  Disappointment Cleaver          2          0            0.000000\n",
       "5 2015-10-03  Disappointment Cleaver         12          0            0.000000\n",
       "6 2015-10-02           Kautz Glacier          2          0            0.000000\n",
       "7 2015-10-02  Disappointment Cleaver          2          0            0.000000\n",
       "8 2015-09-30  Disappointment Cleaver          2          0            0.000000\n",
       "9 2015-09-28  Disappointment Cleaver         12          4            0.333333"
      ]
     },
     "execution_count": 5,
     "metadata": {},
     "output_type": "execute_result"
    }
   ],
   "source": [
    "climbing_clean_0.head(10)"
   ]
  },
  {
   "cell_type": "markdown",
   "metadata": {
    "id": "ncghyG8F4mAO"
   },
   "source": [
    "### Method 2: Looping over the rows"
   ]
  },
  {
   "cell_type": "code",
   "execution_count": 6,
   "metadata": {
    "id": "c_pN_ecH4Xqg"
   },
   "outputs": [],
   "source": [
    "# create a sorted copy from climbing dataframe, with indices 0, 1, ..., n-1\n",
    "climbing_clean_1 = climbing.sort_values(['Date', 'Route'], ascending=False, ignore_index=True)\n",
    "\n",
    "# aggregating the rows when Date and Route are identical\n",
    "for index, row in climbing_clean_1.iterrows():\n",
    "    # skip the first row\n",
    "    if index == 0:\n",
    "        continue\n",
    "\n",
    "    if (climbing_clean_1.loc[index-1, 'Date'] == climbing_clean_1.loc[index, 'Date'] and \\\n",
    "        climbing_clean_1.loc[index-1, 'Route'] == climbing_clean_1.loc[index, 'Route']):\n",
    "      \n",
    "        climbing_clean_1.loc[index, 'Attempted'] += climbing_clean_1.loc[index-1, 'Attempted']\n",
    "        climbing_clean_1.loc[index, 'Succeeded'] += climbing_clean_1.loc[index-1, 'Succeeded']\n",
    "        \n",
    "    # recalculate the success percentage\n",
    "    climbing_clean_1.loc[index, 'Success Percentage'] = climbing_clean_1.loc[index, 'Succeeded'] / climbing_clean_1.loc[index, 'Attempted']"
   ]
  },
  {
   "cell_type": "code",
   "execution_count": 7,
   "metadata": {
    "colab": {
     "base_uri": "https://localhost:8080/",
     "height": 677
    },
    "id": "-TJFFIwS4XnZ",
    "outputId": "5e8b895b-7b46-404a-e85d-243ae3898a03"
   },
   "outputs": [
    {
     "data": {
      "text/html": [
       "<div>\n",
       "<style scoped>\n",
       "    .dataframe tbody tr th:only-of-type {\n",
       "        vertical-align: middle;\n",
       "    }\n",
       "\n",
       "    .dataframe tbody tr th {\n",
       "        vertical-align: top;\n",
       "    }\n",
       "\n",
       "    .dataframe thead th {\n",
       "        text-align: right;\n",
       "    }\n",
       "</style>\n",
       "<table border=\"1\" class=\"dataframe\">\n",
       "  <thead>\n",
       "    <tr style=\"text-align: right;\">\n",
       "      <th></th>\n",
       "      <th>Date</th>\n",
       "      <th>Route</th>\n",
       "      <th>Attempted</th>\n",
       "      <th>Succeeded</th>\n",
       "      <th>Success Percentage</th>\n",
       "    </tr>\n",
       "  </thead>\n",
       "  <tbody>\n",
       "    <tr>\n",
       "      <th>4057</th>\n",
       "      <td>2014-01-25</td>\n",
       "      <td>Ingraham Direct</td>\n",
       "      <td>10</td>\n",
       "      <td>2</td>\n",
       "      <td>0.200000</td>\n",
       "    </tr>\n",
       "    <tr>\n",
       "      <th>4058</th>\n",
       "      <td>2014-01-25</td>\n",
       "      <td>Gibralter Ledges</td>\n",
       "      <td>2</td>\n",
       "      <td>0</td>\n",
       "      <td>0.000000</td>\n",
       "    </tr>\n",
       "    <tr>\n",
       "      <th>4059</th>\n",
       "      <td>2014-01-25</td>\n",
       "      <td>Gibralter Ledges</td>\n",
       "      <td>4</td>\n",
       "      <td>0</td>\n",
       "      <td>0.000000</td>\n",
       "    </tr>\n",
       "    <tr>\n",
       "      <th>4060</th>\n",
       "      <td>2014-01-24</td>\n",
       "      <td>Ingraham Direct</td>\n",
       "      <td>2</td>\n",
       "      <td>0</td>\n",
       "      <td>0.000000</td>\n",
       "    </tr>\n",
       "    <tr>\n",
       "      <th>4061</th>\n",
       "      <td>2014-01-24</td>\n",
       "      <td>Gibralter Ledges</td>\n",
       "      <td>2</td>\n",
       "      <td>2</td>\n",
       "      <td>1.000000</td>\n",
       "    </tr>\n",
       "    <tr>\n",
       "      <th>4062</th>\n",
       "      <td>2014-01-24</td>\n",
       "      <td>Gibralter Ledges</td>\n",
       "      <td>3</td>\n",
       "      <td>2</td>\n",
       "      <td>0.666667</td>\n",
       "    </tr>\n",
       "    <tr>\n",
       "      <th>4063</th>\n",
       "      <td>2014-01-24</td>\n",
       "      <td>Gibralter Ledges</td>\n",
       "      <td>5</td>\n",
       "      <td>4</td>\n",
       "      <td>0.800000</td>\n",
       "    </tr>\n",
       "    <tr>\n",
       "      <th>4064</th>\n",
       "      <td>2014-01-24</td>\n",
       "      <td>Gibralter Ledges</td>\n",
       "      <td>7</td>\n",
       "      <td>6</td>\n",
       "      <td>0.857143</td>\n",
       "    </tr>\n",
       "    <tr>\n",
       "      <th>4065</th>\n",
       "      <td>2014-01-24</td>\n",
       "      <td>Gibralter Ledges</td>\n",
       "      <td>9</td>\n",
       "      <td>6</td>\n",
       "      <td>0.666667</td>\n",
       "    </tr>\n",
       "    <tr>\n",
       "      <th>4066</th>\n",
       "      <td>2014-01-23</td>\n",
       "      <td>Little Tahoma</td>\n",
       "      <td>2</td>\n",
       "      <td>0</td>\n",
       "      <td>0.000000</td>\n",
       "    </tr>\n",
       "    <tr>\n",
       "      <th>4067</th>\n",
       "      <td>2014-01-20</td>\n",
       "      <td>Fuhrer's Finger</td>\n",
       "      <td>2</td>\n",
       "      <td>0</td>\n",
       "      <td>0.000000</td>\n",
       "    </tr>\n",
       "    <tr>\n",
       "      <th>4068</th>\n",
       "      <td>2014-01-19</td>\n",
       "      <td>Gibralter Ledges</td>\n",
       "      <td>2</td>\n",
       "      <td>0</td>\n",
       "      <td>0.000000</td>\n",
       "    </tr>\n",
       "    <tr>\n",
       "      <th>4069</th>\n",
       "      <td>2014-01-18</td>\n",
       "      <td>Gibralter Ledges</td>\n",
       "      <td>2</td>\n",
       "      <td>0</td>\n",
       "      <td>0.000000</td>\n",
       "    </tr>\n",
       "    <tr>\n",
       "      <th>4070</th>\n",
       "      <td>2014-01-18</td>\n",
       "      <td>Gibralter Ledges</td>\n",
       "      <td>6</td>\n",
       "      <td>4</td>\n",
       "      <td>0.666667</td>\n",
       "    </tr>\n",
       "    <tr>\n",
       "      <th>4071</th>\n",
       "      <td>2014-01-18</td>\n",
       "      <td>Gibralter Ledges</td>\n",
       "      <td>8</td>\n",
       "      <td>4</td>\n",
       "      <td>0.500000</td>\n",
       "    </tr>\n",
       "    <tr>\n",
       "      <th>4072</th>\n",
       "      <td>2014-01-16</td>\n",
       "      <td>Little Tahoma</td>\n",
       "      <td>2</td>\n",
       "      <td>0</td>\n",
       "      <td>0.000000</td>\n",
       "    </tr>\n",
       "    <tr>\n",
       "      <th>4073</th>\n",
       "      <td>2014-01-06</td>\n",
       "      <td>Disappointment Cleaver</td>\n",
       "      <td>8</td>\n",
       "      <td>0</td>\n",
       "      <td>0.000000</td>\n",
       "    </tr>\n",
       "    <tr>\n",
       "      <th>4074</th>\n",
       "      <td>2014-01-06</td>\n",
       "      <td>Disappointment Cleaver</td>\n",
       "      <td>16</td>\n",
       "      <td>0</td>\n",
       "      <td>0.000000</td>\n",
       "    </tr>\n",
       "    <tr>\n",
       "      <th>4075</th>\n",
       "      <td>2014-01-05</td>\n",
       "      <td>Disappointment Cleaver</td>\n",
       "      <td>2</td>\n",
       "      <td>0</td>\n",
       "      <td>0.000000</td>\n",
       "    </tr>\n",
       "    <tr>\n",
       "      <th>4076</th>\n",
       "      <td>2014-01-04</td>\n",
       "      <td>Gibralter Ledges</td>\n",
       "      <td>3</td>\n",
       "      <td>2</td>\n",
       "      <td>0.666667</td>\n",
       "    </tr>\n",
       "  </tbody>\n",
       "</table>\n",
       "</div>"
      ],
      "text/plain": [
       "           Date                   Route  Attempted  Succeeded  \\\n",
       "4057 2014-01-25         Ingraham Direct         10          2   \n",
       "4058 2014-01-25        Gibralter Ledges          2          0   \n",
       "4059 2014-01-25        Gibralter Ledges          4          0   \n",
       "4060 2014-01-24         Ingraham Direct          2          0   \n",
       "4061 2014-01-24        Gibralter Ledges          2          2   \n",
       "4062 2014-01-24        Gibralter Ledges          3          2   \n",
       "4063 2014-01-24        Gibralter Ledges          5          4   \n",
       "4064 2014-01-24        Gibralter Ledges          7          6   \n",
       "4065 2014-01-24        Gibralter Ledges          9          6   \n",
       "4066 2014-01-23           Little Tahoma          2          0   \n",
       "4067 2014-01-20         Fuhrer's Finger          2          0   \n",
       "4068 2014-01-19        Gibralter Ledges          2          0   \n",
       "4069 2014-01-18        Gibralter Ledges          2          0   \n",
       "4070 2014-01-18        Gibralter Ledges          6          4   \n",
       "4071 2014-01-18        Gibralter Ledges          8          4   \n",
       "4072 2014-01-16           Little Tahoma          2          0   \n",
       "4073 2014-01-06  Disappointment Cleaver          8          0   \n",
       "4074 2014-01-06  Disappointment Cleaver         16          0   \n",
       "4075 2014-01-05  Disappointment Cleaver          2          0   \n",
       "4076 2014-01-04        Gibralter Ledges          3          2   \n",
       "\n",
       "      Success Percentage  \n",
       "4057            0.200000  \n",
       "4058            0.000000  \n",
       "4059            0.000000  \n",
       "4060            0.000000  \n",
       "4061            1.000000  \n",
       "4062            0.666667  \n",
       "4063            0.800000  \n",
       "4064            0.857143  \n",
       "4065            0.666667  \n",
       "4066            0.000000  \n",
       "4067            0.000000  \n",
       "4068            0.000000  \n",
       "4069            0.000000  \n",
       "4070            0.666667  \n",
       "4071            0.500000  \n",
       "4072            0.000000  \n",
       "4073            0.000000  \n",
       "4074            0.000000  \n",
       "4075            0.000000  \n",
       "4076            0.666667  "
      ]
     },
     "execution_count": 7,
     "metadata": {},
     "output_type": "execute_result"
    }
   ],
   "source": [
    "# check\n",
    "climbing_clean_1.tail(20)"
   ]
  },
  {
   "cell_type": "markdown",
   "metadata": {
    "id": "HrFDZePLBNlx"
   },
   "source": [
    "You can see that we were able to sum up the number of Attempted summits, but still have both rows in our data frame. we use the following one-line command to delete the first of these duplicates and only keep the last."
   ]
  },
  {
   "cell_type": "code",
   "execution_count": 8,
   "metadata": {
    "id": "ehT-sN1R4XkT"
   },
   "outputs": [],
   "source": [
    "climbing_clean_1 = climbing_clean_1.drop_duplicates(subset=['Date', 'Route'], keep='last')"
   ]
  },
  {
   "cell_type": "code",
   "execution_count": 9,
   "metadata": {
    "colab": {
     "base_uri": "https://localhost:8080/",
     "height": 363
    },
    "id": "_1IR91jF4XhQ",
    "outputId": "259a5d70-11ec-4287-cbbd-9b6e2abeb608"
   },
   "outputs": [
    {
     "data": {
      "text/html": [
       "<div>\n",
       "<style scoped>\n",
       "    .dataframe tbody tr th:only-of-type {\n",
       "        vertical-align: middle;\n",
       "    }\n",
       "\n",
       "    .dataframe tbody tr th {\n",
       "        vertical-align: top;\n",
       "    }\n",
       "\n",
       "    .dataframe thead th {\n",
       "        text-align: right;\n",
       "    }\n",
       "</style>\n",
       "<table border=\"1\" class=\"dataframe\">\n",
       "  <thead>\n",
       "    <tr style=\"text-align: right;\">\n",
       "      <th></th>\n",
       "      <th>Date</th>\n",
       "      <th>Route</th>\n",
       "      <th>Attempted</th>\n",
       "      <th>Succeeded</th>\n",
       "      <th>Success Percentage</th>\n",
       "    </tr>\n",
       "  </thead>\n",
       "  <tbody>\n",
       "    <tr>\n",
       "      <th>0</th>\n",
       "      <td>2015-11-27</td>\n",
       "      <td>Disappointment Cleaver</td>\n",
       "      <td>2</td>\n",
       "      <td>0</td>\n",
       "      <td>0.000000</td>\n",
       "    </tr>\n",
       "    <tr>\n",
       "      <th>1</th>\n",
       "      <td>2015-11-21</td>\n",
       "      <td>Disappointment Cleaver</td>\n",
       "      <td>3</td>\n",
       "      <td>0</td>\n",
       "      <td>0.000000</td>\n",
       "    </tr>\n",
       "    <tr>\n",
       "      <th>2</th>\n",
       "      <td>2015-10-15</td>\n",
       "      <td>Disappointment Cleaver</td>\n",
       "      <td>2</td>\n",
       "      <td>0</td>\n",
       "      <td>0.000000</td>\n",
       "    </tr>\n",
       "    <tr>\n",
       "      <th>3</th>\n",
       "      <td>2015-10-13</td>\n",
       "      <td>Little Tahoma</td>\n",
       "      <td>8</td>\n",
       "      <td>0</td>\n",
       "      <td>0.000000</td>\n",
       "    </tr>\n",
       "    <tr>\n",
       "      <th>4</th>\n",
       "      <td>2015-10-09</td>\n",
       "      <td>Disappointment Cleaver</td>\n",
       "      <td>2</td>\n",
       "      <td>0</td>\n",
       "      <td>0.000000</td>\n",
       "    </tr>\n",
       "    <tr>\n",
       "      <th>6</th>\n",
       "      <td>2015-10-03</td>\n",
       "      <td>Disappointment Cleaver</td>\n",
       "      <td>12</td>\n",
       "      <td>0</td>\n",
       "      <td>0.000000</td>\n",
       "    </tr>\n",
       "    <tr>\n",
       "      <th>7</th>\n",
       "      <td>2015-10-02</td>\n",
       "      <td>Kautz Glacier</td>\n",
       "      <td>2</td>\n",
       "      <td>0</td>\n",
       "      <td>0.000000</td>\n",
       "    </tr>\n",
       "    <tr>\n",
       "      <th>8</th>\n",
       "      <td>2015-10-02</td>\n",
       "      <td>Disappointment Cleaver</td>\n",
       "      <td>2</td>\n",
       "      <td>0</td>\n",
       "      <td>0.000000</td>\n",
       "    </tr>\n",
       "    <tr>\n",
       "      <th>9</th>\n",
       "      <td>2015-09-30</td>\n",
       "      <td>Disappointment Cleaver</td>\n",
       "      <td>2</td>\n",
       "      <td>0</td>\n",
       "      <td>0.000000</td>\n",
       "    </tr>\n",
       "    <tr>\n",
       "      <th>10</th>\n",
       "      <td>2015-09-28</td>\n",
       "      <td>Disappointment Cleaver</td>\n",
       "      <td>12</td>\n",
       "      <td>4</td>\n",
       "      <td>0.333333</td>\n",
       "    </tr>\n",
       "  </tbody>\n",
       "</table>\n",
       "</div>"
      ],
      "text/plain": [
       "         Date                   Route  Attempted  Succeeded  \\\n",
       "0  2015-11-27  Disappointment Cleaver          2          0   \n",
       "1  2015-11-21  Disappointment Cleaver          3          0   \n",
       "2  2015-10-15  Disappointment Cleaver          2          0   \n",
       "3  2015-10-13           Little Tahoma          8          0   \n",
       "4  2015-10-09  Disappointment Cleaver          2          0   \n",
       "6  2015-10-03  Disappointment Cleaver         12          0   \n",
       "7  2015-10-02           Kautz Glacier          2          0   \n",
       "8  2015-10-02  Disappointment Cleaver          2          0   \n",
       "9  2015-09-30  Disappointment Cleaver          2          0   \n",
       "10 2015-09-28  Disappointment Cleaver         12          4   \n",
       "\n",
       "    Success Percentage  \n",
       "0             0.000000  \n",
       "1             0.000000  \n",
       "2             0.000000  \n",
       "3             0.000000  \n",
       "4             0.000000  \n",
       "6             0.000000  \n",
       "7             0.000000  \n",
       "8             0.000000  \n",
       "9             0.000000  \n",
       "10            0.333333  "
      ]
     },
     "execution_count": 9,
     "metadata": {},
     "output_type": "execute_result"
    }
   ],
   "source": [
    "# check\n",
    "climbing_clean_1.head(10)"
   ]
  },
  {
   "cell_type": "markdown",
   "metadata": {
    "id": "OZubvEKlBuAu"
   },
   "source": [
    "Now we have the data frame that we wanted. The indices can simply be reset with `.reset_index()`."
   ]
  },
  {
   "cell_type": "code",
   "execution_count": 10,
   "metadata": {
    "id": "mzChXO68Br2T"
   },
   "outputs": [],
   "source": [
    "climbing_clean_1 = climbing_clean_1.reset_index(drop=True)  # with drop=True, drop the old index and create a new one"
   ]
  },
  {
   "cell_type": "code",
   "execution_count": 11,
   "metadata": {
    "colab": {
     "base_uri": "https://localhost:8080/",
     "height": 363
    },
    "id": "-53VVl6AB-em",
    "outputId": "bd5f7efb-1f8f-4e88-d10b-b509ba1808bb"
   },
   "outputs": [
    {
     "data": {
      "text/html": [
       "<div>\n",
       "<style scoped>\n",
       "    .dataframe tbody tr th:only-of-type {\n",
       "        vertical-align: middle;\n",
       "    }\n",
       "\n",
       "    .dataframe tbody tr th {\n",
       "        vertical-align: top;\n",
       "    }\n",
       "\n",
       "    .dataframe thead th {\n",
       "        text-align: right;\n",
       "    }\n",
       "</style>\n",
       "<table border=\"1\" class=\"dataframe\">\n",
       "  <thead>\n",
       "    <tr style=\"text-align: right;\">\n",
       "      <th></th>\n",
       "      <th>Date</th>\n",
       "      <th>Route</th>\n",
       "      <th>Attempted</th>\n",
       "      <th>Succeeded</th>\n",
       "      <th>Success Percentage</th>\n",
       "    </tr>\n",
       "  </thead>\n",
       "  <tbody>\n",
       "    <tr>\n",
       "      <th>0</th>\n",
       "      <td>2015-11-27</td>\n",
       "      <td>Disappointment Cleaver</td>\n",
       "      <td>2</td>\n",
       "      <td>0</td>\n",
       "      <td>0.000000</td>\n",
       "    </tr>\n",
       "    <tr>\n",
       "      <th>1</th>\n",
       "      <td>2015-11-21</td>\n",
       "      <td>Disappointment Cleaver</td>\n",
       "      <td>3</td>\n",
       "      <td>0</td>\n",
       "      <td>0.000000</td>\n",
       "    </tr>\n",
       "    <tr>\n",
       "      <th>2</th>\n",
       "      <td>2015-10-15</td>\n",
       "      <td>Disappointment Cleaver</td>\n",
       "      <td>2</td>\n",
       "      <td>0</td>\n",
       "      <td>0.000000</td>\n",
       "    </tr>\n",
       "    <tr>\n",
       "      <th>3</th>\n",
       "      <td>2015-10-13</td>\n",
       "      <td>Little Tahoma</td>\n",
       "      <td>8</td>\n",
       "      <td>0</td>\n",
       "      <td>0.000000</td>\n",
       "    </tr>\n",
       "    <tr>\n",
       "      <th>4</th>\n",
       "      <td>2015-10-09</td>\n",
       "      <td>Disappointment Cleaver</td>\n",
       "      <td>2</td>\n",
       "      <td>0</td>\n",
       "      <td>0.000000</td>\n",
       "    </tr>\n",
       "    <tr>\n",
       "      <th>5</th>\n",
       "      <td>2015-10-03</td>\n",
       "      <td>Disappointment Cleaver</td>\n",
       "      <td>12</td>\n",
       "      <td>0</td>\n",
       "      <td>0.000000</td>\n",
       "    </tr>\n",
       "    <tr>\n",
       "      <th>6</th>\n",
       "      <td>2015-10-02</td>\n",
       "      <td>Kautz Glacier</td>\n",
       "      <td>2</td>\n",
       "      <td>0</td>\n",
       "      <td>0.000000</td>\n",
       "    </tr>\n",
       "    <tr>\n",
       "      <th>7</th>\n",
       "      <td>2015-10-02</td>\n",
       "      <td>Disappointment Cleaver</td>\n",
       "      <td>2</td>\n",
       "      <td>0</td>\n",
       "      <td>0.000000</td>\n",
       "    </tr>\n",
       "    <tr>\n",
       "      <th>8</th>\n",
       "      <td>2015-09-30</td>\n",
       "      <td>Disappointment Cleaver</td>\n",
       "      <td>2</td>\n",
       "      <td>0</td>\n",
       "      <td>0.000000</td>\n",
       "    </tr>\n",
       "    <tr>\n",
       "      <th>9</th>\n",
       "      <td>2015-09-28</td>\n",
       "      <td>Disappointment Cleaver</td>\n",
       "      <td>12</td>\n",
       "      <td>4</td>\n",
       "      <td>0.333333</td>\n",
       "    </tr>\n",
       "  </tbody>\n",
       "</table>\n",
       "</div>"
      ],
      "text/plain": [
       "        Date                   Route  Attempted  Succeeded  Success Percentage\n",
       "0 2015-11-27  Disappointment Cleaver          2          0            0.000000\n",
       "1 2015-11-21  Disappointment Cleaver          3          0            0.000000\n",
       "2 2015-10-15  Disappointment Cleaver          2          0            0.000000\n",
       "3 2015-10-13           Little Tahoma          8          0            0.000000\n",
       "4 2015-10-09  Disappointment Cleaver          2          0            0.000000\n",
       "5 2015-10-03  Disappointment Cleaver         12          0            0.000000\n",
       "6 2015-10-02           Kautz Glacier          2          0            0.000000\n",
       "7 2015-10-02  Disappointment Cleaver          2          0            0.000000\n",
       "8 2015-09-30  Disappointment Cleaver          2          0            0.000000\n",
       "9 2015-09-28  Disappointment Cleaver         12          4            0.333333"
      ]
     },
     "execution_count": 11,
     "metadata": {},
     "output_type": "execute_result"
    }
   ],
   "source": [
    "# check\n",
    "climbing_clean_1.head(10)"
   ]
  },
  {
   "cell_type": "markdown",
   "metadata": {
    "id": "yUBruaC1CvUG"
   },
   "source": [
    "Check if the results from Method 1 matches with results from Method 2"
   ]
  },
  {
   "cell_type": "code",
   "execution_count": 12,
   "metadata": {
    "colab": {
     "base_uri": "https://localhost:8080/",
     "height": 49
    },
    "id": "wVpjQErhCt_c",
    "outputId": "3a061942-ded1-4021-d51b-a84a6e57879e"
   },
   "outputs": [
    {
     "data": {
      "text/html": [
       "<div>\n",
       "<style scoped>\n",
       "    .dataframe tbody tr th:only-of-type {\n",
       "        vertical-align: middle;\n",
       "    }\n",
       "\n",
       "    .dataframe tbody tr th {\n",
       "        vertical-align: top;\n",
       "    }\n",
       "\n",
       "    .dataframe thead tr th {\n",
       "        text-align: left;\n",
       "    }\n",
       "</style>\n",
       "<table border=\"1\" class=\"dataframe\">\n",
       "  <thead>\n",
       "  </thead>\n",
       "  <tbody>\n",
       "  </tbody>\n",
       "</table>\n",
       "</div>"
      ],
      "text/plain": [
       "Empty DataFrame\n",
       "Columns: []\n",
       "Index: []"
      ]
     },
     "execution_count": 12,
     "metadata": {},
     "output_type": "execute_result"
    }
   ],
   "source": [
    "# Any differences will be shown\n",
    "climbing_clean_0.compare(climbing_clean_1)\n"
   ]
  },
  {
   "cell_type": "markdown",
   "metadata": {
    "id": "0PbJXuCH5JyG"
   },
   "source": [
    "<a name=\"section-3\"></a>\n",
    "\n",
    "## Section 3: More Data Cleaning"
   ]
  },
  {
   "cell_type": "markdown",
   "metadata": {
    "id": "qqe-G9J5CL40"
   },
   "source": [
    "Next, we find other manual mistakes in the data set. After having reviewed some random rows by hand, we find that on some dates there were more Succeeded summits than Attempted summits. This must be a mistake and we delete these rows."
   ]
  },
  {
   "cell_type": "code",
   "execution_count": 13,
   "metadata": {
    "id": "qtIUPLi0CAug"
   },
   "outputs": [],
   "source": [
    "# deleting rows, where number of successes is higher than number of attempts\n",
    "mistake_rows = climbing_clean_0[climbing_clean_0['Succeeded'] > climbing_clean_0['Attempted']]"
   ]
  },
  {
   "cell_type": "code",
   "execution_count": 14,
   "metadata": {
    "id": "TysUPLv5DCCw"
   },
   "outputs": [
    {
     "data": {
      "text/html": [
       "<div>\n",
       "<style scoped>\n",
       "    .dataframe tbody tr th:only-of-type {\n",
       "        vertical-align: middle;\n",
       "    }\n",
       "\n",
       "    .dataframe tbody tr th {\n",
       "        vertical-align: top;\n",
       "    }\n",
       "\n",
       "    .dataframe thead th {\n",
       "        text-align: right;\n",
       "    }\n",
       "</style>\n",
       "<table border=\"1\" class=\"dataframe\">\n",
       "  <thead>\n",
       "    <tr style=\"text-align: right;\">\n",
       "      <th></th>\n",
       "      <th>Date</th>\n",
       "      <th>Route</th>\n",
       "      <th>Attempted</th>\n",
       "      <th>Succeeded</th>\n",
       "      <th>Success Percentage</th>\n",
       "    </tr>\n",
       "  </thead>\n",
       "  <tbody>\n",
       "    <tr>\n",
       "      <th>113</th>\n",
       "      <td>2015-07-27</td>\n",
       "      <td>Emmons-Winthrop</td>\n",
       "      <td>20</td>\n",
       "      <td>21</td>\n",
       "      <td>1.050000</td>\n",
       "    </tr>\n",
       "    <tr>\n",
       "      <th>135</th>\n",
       "      <td>2015-07-20</td>\n",
       "      <td>Disappointment Cleaver</td>\n",
       "      <td>67</td>\n",
       "      <td>99</td>\n",
       "      <td>1.477612</td>\n",
       "    </tr>\n",
       "    <tr>\n",
       "      <th>674</th>\n",
       "      <td>2014-07-11</td>\n",
       "      <td>Kautz Glacier</td>\n",
       "      <td>13</td>\n",
       "      <td>14</td>\n",
       "      <td>1.076923</td>\n",
       "    </tr>\n",
       "  </tbody>\n",
       "</table>\n",
       "</div>"
      ],
      "text/plain": [
       "          Date                   Route  Attempted  Succeeded  \\\n",
       "113 2015-07-27         Emmons-Winthrop         20         21   \n",
       "135 2015-07-20  Disappointment Cleaver         67         99   \n",
       "674 2014-07-11           Kautz Glacier         13         14   \n",
       "\n",
       "     Success Percentage  \n",
       "113            1.050000  \n",
       "135            1.477612  \n",
       "674            1.076923  "
      ]
     },
     "execution_count": 14,
     "metadata": {},
     "output_type": "execute_result"
    }
   ],
   "source": [
    "# check\n",
    "mistake_rows"
   ]
  },
  {
   "cell_type": "code",
   "execution_count": 15,
   "metadata": {
    "id": "op4Tlg4oDGKa"
   },
   "outputs": [],
   "source": [
    "# delete these rows\n",
    "climbing_clean_1 = climbing_clean_0.drop(index=mistake_rows.index)"
   ]
  },
  {
   "cell_type": "code",
   "execution_count": 16,
   "metadata": {
    "id": "eDDHA5L5vK7_"
   },
   "outputs": [
    {
     "data": {
      "text/html": [
       "<div>\n",
       "<style scoped>\n",
       "    .dataframe tbody tr th:only-of-type {\n",
       "        vertical-align: middle;\n",
       "    }\n",
       "\n",
       "    .dataframe tbody tr th {\n",
       "        vertical-align: top;\n",
       "    }\n",
       "\n",
       "    .dataframe thead th {\n",
       "        text-align: right;\n",
       "    }\n",
       "</style>\n",
       "<table border=\"1\" class=\"dataframe\">\n",
       "  <thead>\n",
       "    <tr style=\"text-align: right;\">\n",
       "      <th></th>\n",
       "      <th>Date</th>\n",
       "      <th>Route</th>\n",
       "      <th>Attempted</th>\n",
       "      <th>Succeeded</th>\n",
       "      <th>Success Percentage</th>\n",
       "    </tr>\n",
       "  </thead>\n",
       "  <tbody>\n",
       "  </tbody>\n",
       "</table>\n",
       "</div>"
      ],
      "text/plain": [
       "Empty DataFrame\n",
       "Columns: [Date, Route, Attempted, Succeeded, Success Percentage]\n",
       "Index: []"
      ]
     },
     "execution_count": 16,
     "metadata": {},
     "output_type": "execute_result"
    }
   ],
   "source": [
    "# deleted?\n",
    "climbing_clean_1[climbing_clean_1['Succeeded'] > climbing_clean_1['Attempted']]"
   ]
  },
  {
   "cell_type": "markdown",
   "metadata": {
    "id": "hoWIApghvfls"
   },
   "source": [
    "Success! All rows are deleted which had a higher number of successes than attempts."
   ]
  },
  {
   "cell_type": "code",
   "execution_count": 17,
   "metadata": {
    "id": "kayQKDzbvUFD"
   },
   "outputs": [],
   "source": [
    "# reset index again\n",
    "climbing_clean_1 = climbing_clean_1.reset_index().drop(columns='index')\n"
   ]
  },
  {
   "cell_type": "code",
   "execution_count": 18,
   "metadata": {
    "id": "NnanWRz9vnuM"
   },
   "outputs": [
    {
     "data": {
      "text/html": [
       "<div>\n",
       "<style scoped>\n",
       "    .dataframe tbody tr th:only-of-type {\n",
       "        vertical-align: middle;\n",
       "    }\n",
       "\n",
       "    .dataframe tbody tr th {\n",
       "        vertical-align: top;\n",
       "    }\n",
       "\n",
       "    .dataframe thead th {\n",
       "        text-align: right;\n",
       "    }\n",
       "</style>\n",
       "<table border=\"1\" class=\"dataframe\">\n",
       "  <thead>\n",
       "    <tr style=\"text-align: right;\">\n",
       "      <th></th>\n",
       "      <th>Date</th>\n",
       "      <th>Route</th>\n",
       "      <th>Attempted</th>\n",
       "      <th>Succeeded</th>\n",
       "      <th>Success Percentage</th>\n",
       "    </tr>\n",
       "  </thead>\n",
       "  <tbody>\n",
       "    <tr>\n",
       "      <th>0</th>\n",
       "      <td>2015-11-27</td>\n",
       "      <td>Disappointment Cleaver</td>\n",
       "      <td>2</td>\n",
       "      <td>0</td>\n",
       "      <td>0.0</td>\n",
       "    </tr>\n",
       "    <tr>\n",
       "      <th>1</th>\n",
       "      <td>2015-11-21</td>\n",
       "      <td>Disappointment Cleaver</td>\n",
       "      <td>3</td>\n",
       "      <td>0</td>\n",
       "      <td>0.0</td>\n",
       "    </tr>\n",
       "    <tr>\n",
       "      <th>2</th>\n",
       "      <td>2015-10-15</td>\n",
       "      <td>Disappointment Cleaver</td>\n",
       "      <td>2</td>\n",
       "      <td>0</td>\n",
       "      <td>0.0</td>\n",
       "    </tr>\n",
       "    <tr>\n",
       "      <th>3</th>\n",
       "      <td>2015-10-13</td>\n",
       "      <td>Little Tahoma</td>\n",
       "      <td>8</td>\n",
       "      <td>0</td>\n",
       "      <td>0.0</td>\n",
       "    </tr>\n",
       "    <tr>\n",
       "      <th>4</th>\n",
       "      <td>2015-10-09</td>\n",
       "      <td>Disappointment Cleaver</td>\n",
       "      <td>2</td>\n",
       "      <td>0</td>\n",
       "      <td>0.0</td>\n",
       "    </tr>\n",
       "  </tbody>\n",
       "</table>\n",
       "</div>"
      ],
      "text/plain": [
       "        Date                   Route  Attempted  Succeeded  Success Percentage\n",
       "0 2015-11-27  Disappointment Cleaver          2          0                 0.0\n",
       "1 2015-11-21  Disappointment Cleaver          3          0                 0.0\n",
       "2 2015-10-15  Disappointment Cleaver          2          0                 0.0\n",
       "3 2015-10-13           Little Tahoma          8          0                 0.0\n",
       "4 2015-10-09  Disappointment Cleaver          2          0                 0.0"
      ]
     },
     "execution_count": 18,
     "metadata": {},
     "output_type": "execute_result"
    }
   ],
   "source": [
    "# check\n",
    "climbing_clean_1.head()"
   ]
  },
  {
   "cell_type": "markdown",
   "metadata": {
    "id": "tqrbqVd97klE"
   },
   "source": [
    "<a name=\"section-4\"></a>\n",
    "\n",
    "## Section 4: Descriptive Statistics"
   ]
  },
  {
   "cell_type": "markdown",
   "metadata": {
    "id": "4BxjI0l2wlYp"
   },
   "source": [
    "It's always a good idea to compute some basic statistics of our data in the beginning. We start with simple means and standard deviations."
   ]
  },
  {
   "cell_type": "code",
   "execution_count": 19,
   "metadata": {
    "id": "bXtrtgvP7Uvh"
   },
   "outputs": [
    {
     "data": {
      "text/html": [
       "<div>\n",
       "<style scoped>\n",
       "    .dataframe tbody tr th:only-of-type {\n",
       "        vertical-align: middle;\n",
       "    }\n",
       "\n",
       "    .dataframe tbody tr th {\n",
       "        vertical-align: top;\n",
       "    }\n",
       "\n",
       "    .dataframe thead th {\n",
       "        text-align: right;\n",
       "    }\n",
       "</style>\n",
       "<table border=\"1\" class=\"dataframe\">\n",
       "  <thead>\n",
       "    <tr style=\"text-align: right;\">\n",
       "      <th></th>\n",
       "      <th>Attempted</th>\n",
       "      <th>Succeeded</th>\n",
       "      <th>Success Percentage</th>\n",
       "    </tr>\n",
       "  </thead>\n",
       "  <tbody>\n",
       "    <tr>\n",
       "      <th>count</th>\n",
       "      <td>1013.000000</td>\n",
       "      <td>1013.000000</td>\n",
       "      <td>1013.000000</td>\n",
       "    </tr>\n",
       "    <tr>\n",
       "      <th>mean</th>\n",
       "      <td>20.585390</td>\n",
       "      <td>10.777887</td>\n",
       "      <td>0.395417</td>\n",
       "    </tr>\n",
       "    <tr>\n",
       "      <th>std</th>\n",
       "      <td>26.615248</td>\n",
       "      <td>17.204163</td>\n",
       "      <td>0.392312</td>\n",
       "    </tr>\n",
       "    <tr>\n",
       "      <th>min</th>\n",
       "      <td>1.000000</td>\n",
       "      <td>0.000000</td>\n",
       "      <td>0.000000</td>\n",
       "    </tr>\n",
       "    <tr>\n",
       "      <th>25%</th>\n",
       "      <td>3.000000</td>\n",
       "      <td>0.000000</td>\n",
       "      <td>0.000000</td>\n",
       "    </tr>\n",
       "    <tr>\n",
       "      <th>50%</th>\n",
       "      <td>8.000000</td>\n",
       "      <td>2.000000</td>\n",
       "      <td>0.369863</td>\n",
       "    </tr>\n",
       "    <tr>\n",
       "      <th>75%</th>\n",
       "      <td>31.000000</td>\n",
       "      <td>16.000000</td>\n",
       "      <td>0.752577</td>\n",
       "    </tr>\n",
       "    <tr>\n",
       "      <th>max</th>\n",
       "      <td>182.000000</td>\n",
       "      <td>98.000000</td>\n",
       "      <td>1.000000</td>\n",
       "    </tr>\n",
       "  </tbody>\n",
       "</table>\n",
       "</div>"
      ],
      "text/plain": [
       "         Attempted    Succeeded  Success Percentage\n",
       "count  1013.000000  1013.000000         1013.000000\n",
       "mean     20.585390    10.777887            0.395417\n",
       "std      26.615248    17.204163            0.392312\n",
       "min       1.000000     0.000000            0.000000\n",
       "25%       3.000000     0.000000            0.000000\n",
       "50%       8.000000     2.000000            0.369863\n",
       "75%      31.000000    16.000000            0.752577\n",
       "max     182.000000    98.000000            1.000000"
      ]
     },
     "execution_count": 19,
     "metadata": {},
     "output_type": "execute_result"
    }
   ],
   "source": [
    "climbing_clean_1.describe()"
   ]
  },
  {
   "cell_type": "markdown",
   "metadata": {
    "id": "lnajJJ4P7xUg"
   },
   "source": [
    "<a name=\"section-5\"></a>\n",
    "\n",
    "## Section 5: Visualization"
   ]
  },
  {
   "cell_type": "markdown",
   "metadata": {
    "id": "yKDouctAxxi_"
   },
   "source": [
    "We can also plot the attempts and successes over time. Our first column is already a date, but pandas has a special data type for dates, which it calls `datetime`.\n",
    "\n",
    "Let's first see in which format our column `Date` saved its values at. "
   ]
  },
  {
   "cell_type": "code",
   "execution_count": 20,
   "metadata": {
    "id": "JLO2a3ouw-p5"
   },
   "outputs": [
    {
     "data": {
      "text/plain": [
       "Date                  datetime64[ns]\n",
       "Route                         object\n",
       "Attempted                      int64\n",
       "Succeeded                      int64\n",
       "Success Percentage           float64\n",
       "dtype: object"
      ]
     },
     "execution_count": 20,
     "metadata": {},
     "output_type": "execute_result"
    }
   ],
   "source": [
    "# check data types\n",
    "climbing_clean_1.dtypes"
   ]
  },
  {
   "cell_type": "markdown",
   "metadata": {
    "id": "uexeSbj-y9Vg"
   },
   "source": [
    "This makes it now very easy to plot histograms over time."
   ]
  },
  {
   "cell_type": "code",
   "execution_count": 21,
   "metadata": {
    "id": "FGy2uN__y7zZ"
   },
   "outputs": [
    {
     "data": {
      "image/png": "[encoded data removed]",
      "text/plain": [
       "<Figure size 1400x1000 with 1 Axes>"
      ]
     },
     "metadata": {},
     "output_type": "display_data"
    }
   ],
   "source": [
    "fig, ax = plt.subplots(figsize=(14,10))\n",
    "\n",
    "for col in ['Attempted', 'Succeeded']:\n",
    "  ax.bar(climbing_clean_1['Date'], climbing_clean_1[col], alpha=0.5, label=col)\n",
    "ax.legend(fontsize=14)\n",
    "\n",
    "# rotates and right aligns the x labels, and moves the bottom of the axes up to make room for them\n",
    "fig.autofmt_xdate();"
   ]
  },
  {
   "cell_type": "code",
   "execution_count": null,
   "metadata": {
    "id": "6ER2yVdMCPQQ"
   },
   "outputs": [],
   "source": []
  }
 ],
 "metadata": {
  "colab": {
   "collapsed_sections": [],
   "name": "Data exploration.ipynb",
   "provenance": []
  },
  "kernelspec": {
   "display_name": "Python 3",
   "language": "python",
   "name": "python3"
  },
  "language_info": {
   "codemirror_mode": {
    "name": "ipython",
    "version": 3
   },
   "file_extension": ".py",
   "mimetype": "text/x-python",
   "name": "python",
   "nbconvert_exporter": "python",
   "pygments_lexer": "ipython3",
   "version": "3.9.15"
  }
 },
 "nbformat": 4,
 "nbformat_minor": 1
}
